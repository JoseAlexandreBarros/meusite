{
 "cells": [
  {
   "cell_type": "code",
   "execution_count": 75,
   "id": "ae952c4a",
   "metadata": {
    "scrolled": true
   },
   "outputs": [],
   "source": [
    "import pyautogui\n",
    "import time"
   ]
  },
  {
   "cell_type": "code",
   "execution_count": 76,
   "id": "3ba8b11b",
   "metadata": {},
   "outputs": [],
   "source": [
    "pyautogui.PAUSE = 1"
   ]
  },
  {
   "cell_type": "code",
   "execution_count": 77,
   "id": "3ecf3a0e",
   "metadata": {},
   "outputs": [],
   "source": [
    "pyautogui.hotkey(\"ctrl\", \"t\")\n",
    "pyautogui.write(\"http://josealexandrebarros.pythonanywhere.com/\")\n",
    "pyautogui.press(\"enter\")"
   ]
  },
  {
   "cell_type": "code",
   "execution_count": 78,
   "id": "8c08b757",
   "metadata": {},
   "outputs": [],
   "source": [
    "time.sleep(5)"
   ]
  },
  {
   "cell_type": "code",
   "execution_count": 79,
   "id": "60b023d1",
   "metadata": {},
   "outputs": [],
   "source": [
    "pyautogui.click(x=30, y=421)\n",
    "time.sleep(6)\n",
    "pyautogui.click(x=62, y=546)\n",
    "time.sleep(6)\n",
    "pyautogui.click(x=123, y=637)"
   ]
  },
  {
   "cell_type": "code",
   "execution_count": 80,
   "id": "0152c547",
   "metadata": {},
   "outputs": [],
   "source": [
    "time.sleep(2)\n",
    "pyautogui.click(x=118, y=801)"
   ]
  },
  {
   "cell_type": "code",
   "execution_count": 81,
   "id": "6c1dcb5f",
   "metadata": {},
   "outputs": [],
   "source": [
    "pyautogui.write(\"jose barros\")\n",
    "pyautogui.click(x=134, y=854)\n",
    "pyautogui.write(\"Istoehumasenhasegura12345\")\n",
    "pyautogui.click(x=93, y=916)"
   ]
  },
  {
   "cell_type": "code",
   "execution_count": 82,
   "id": "6631a11b",
   "metadata": {},
   "outputs": [],
   "source": []
  },
  {
   "cell_type": "code",
   "execution_count": null,
   "id": "57e44136",
   "metadata": {},
   "outputs": [],
   "source": []
  },
  {
   "cell_type": "raw",
   "id": "168599c0",
   "metadata": {},
   "source": []
  },
  {
   "cell_type": "code",
   "execution_count": null,
   "id": "f2d8eb1a",
   "metadata": {},
   "outputs": [],
   "source": []
  },
  {
   "cell_type": "code",
   "execution_count": null,
   "id": "bfbf09e9",
   "metadata": {},
   "outputs": [],
   "source": []
  }
 ],
 "metadata": {
  "kernelspec": {
   "display_name": "Python 3 (ipykernel)",
   "language": "python",
   "name": "python3"
  },
  "language_info": {
   "codemirror_mode": {
    "name": "ipython",
    "version": 3
   },
   "file_extension": ".py",
   "mimetype": "text/x-python",
   "name": "python",
   "nbconvert_exporter": "python",
   "pygments_lexer": "ipython3",
   "version": "3.10.9"
  }
 },
 "nbformat": 4,
 "nbformat_minor": 5
}
